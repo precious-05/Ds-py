{
 "cells": [
  {
   "cell_type": "code",
   "execution_count": 3,
   "metadata": {},
   "outputs": [
    {
     "name": "stdout",
     "output_type": "stream",
     "text": [
      "Element not found in the array\n"
     ]
    }
   ],
   "source": [
    "# Linear search function\n",
    "def linear_search(arr, target):\n",
    "    for i in range(len(arr)):\n",
    "        if arr[i] == target:\n",
    "            return i  # Return the index of the target element\n",
    "    return -1  # Return -1 if the target is not found\n",
    "\n",
    "# Example usage\n",
    "arr = [5, 3, 8, 4, 2]\n",
    "target=input(\"Enter the target value to Search: \")\n",
    "\n",
    "result = linear_search(arr, target)\n",
    "\n",
    "if result != -1:\n",
    "    print(f\"Element found at index {result}\")\n",
    "else:\n",
    "    print(\"Element not found in the array\")\n"
   ]
  },
  {
   "cell_type": "markdown",
   "metadata": {},
   "source": [
    "###3 Node class to represent each element in the linked list\n",
    "class Node:\n",
    "    def __init__(self, data):\n",
    "        self.data = data  # Node data\n",
    "        self.next = None  # Pointer to the next node in the list\n",
    "\n",
    "\n",
    "\n",
    "#### SinglyLinkedList class to manage the linked list operations\n",
    "class SinglyLinkedList:\n",
    "    def __init__(self):\n",
    "        self.head = None  # Initialize an empty linked list with no head node\n",
    "\n",
    "    #### Method to insert a new node at the end of the linked list\n",
    "    def append(self, data):\n",
    "        new_node = Node(data)\n",
    "        if not self.head:\n",
    "            self.head = new_node  # Set head to new node if list is empty\n",
    "        else:\n",
    "            current = self.head\n",
    "            while current.next:  # Traverse to the last node\n",
    "                current = current.next\n",
    "            current.next = new_node  # Link the last node to the new node\n",
    "\n",
    "    #### Method to display the linked list\n",
    "    def display(self):\n",
    "        current = self.head\n",
    "        while current:\n",
    "            print(current.data, end=\" -> \")\n",
    "            current = current.next\n",
    "        print(\"None\")  # End of the list\n",
    "\n",
    "    #### Method to delete a node by value\n",
    "    def delete(self, key):\n",
    "        current = self.head\n",
    "        previous = None\n",
    "\n",
    "        #### If head node holds the key to be deleted\n",
    "        if current and current.data == key:\n",
    "            self.head = current.next\n",
    "            current = None\n",
    "            return\n",
    "\n",
    "        #### Search for the key to be deleted\n",
    "        while current and current.data != key:\n",
    "            previous = current\n",
    "            current = current.next\n",
    "\n",
    "        #### If key is not found in the list\n",
    "        if not current:\n",
    "            print(\"Node with value\", key, \"not found.\")\n",
    "            return\n",
    "\n",
    "        #### Unlink the node from the linked list\n",
    "        previous.next = current.next\n",
    "        current = None\n",
    "\n",
    "#### Example usage\n",
    "linked_list = SinglyLinkedList()\n",
    "linked_list.append(1)\n",
    "linked_list.append(2)\n",
    "linked_list.append(3)\n",
    "linked_list.append(4)\n",
    "\n",
    "print(\"Linked List after adding nodes:\")\n",
    "linked_list.display()\n",
    "\n",
    "#### Deleting a node\n",
    "linked_list.delete(3)\n",
    "\n",
    "\n",
    "print(\"Linked List after deleting a node with value 3:\")\n",
    "linked_list.display()"
   ]
  }
 ],
 "metadata": {
  "kernelspec": {
   "display_name": "Python 3",
   "language": "python",
   "name": "python3"
  },
  "language_info": {
   "codemirror_mode": {
    "name": "ipython",
    "version": 3
   },
   "file_extension": ".py",
   "mimetype": "text/x-python",
   "name": "python",
   "nbconvert_exporter": "python",
   "pygments_lexer": "ipython3",
   "version": "3.12.4"
  }
 },
 "nbformat": 4,
 "nbformat_minor": 2
}
